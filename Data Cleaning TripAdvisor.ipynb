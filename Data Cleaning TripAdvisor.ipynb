{
 "cells": [
  {
   "cell_type": "markdown",
   "metadata": {},
   "source": [
    "# Cleaning TripAdvisor Reviews"
   ]
  },
  {
   "cell_type": "markdown",
   "metadata": {},
   "source": [
    "Now that raw data has been downloaded for 20+ cities, cleaning is required. The goal here is to remove hotels with less than 20 reviewes, separate the reviews into pre-pandemic and pandemic reviews, discard extraneous data and combine into a single dataframe for easier NLP processing"
   ]
  },
  {
   "cell_type": "code",
   "execution_count": 2,
   "metadata": {},
   "outputs": [],
   "source": [
    "#Import Required Library\n",
    "import json\n",
    "import datetime \n",
    "import pandas as pd\n",
    "from dateutil.parser import parse\n",
    "import os\n",
    "import re\n",
    "import langdetect"
   ]
  },
  {
   "cell_type": "code",
   "execution_count": 3,
   "metadata": {},
   "outputs": [
    {
     "data": {
      "text/plain": [
       "27"
      ]
     },
     "execution_count": 3,
     "metadata": {},
     "output_type": "execute_result"
    }
   ],
   "source": [
    "# Set Directory for OS\n",
    "directory = \"data/Trip Advisor\"\n",
    "len(os.listdir(directory)) # Checking to ensure all files are present"
   ]
  },
  {
   "cell_type": "code",
   "execution_count": 4,
   "metadata": {},
   "outputs": [],
   "source": [
    "#Function to remove hotels with no reviews or less than 20 reviews\n",
    "def hotel_filter(df):\n",
    "    filtered_data = []\n",
    "    for hotel in df:\n",
    "        if hotel['reviews'] and len(hotel['reviews']) > 20:\n",
    "            filtered_data.append(hotel)\n",
    "    return filtered_data"
   ]
  },
  {
   "cell_type": "markdown",
   "metadata": {},
   "source": [
    "#### Quick Exploration"
   ]
  },
  {
   "cell_type": "code",
   "execution_count": 5,
   "metadata": {},
   "outputs": [],
   "source": [
    "#Loading an example dataset\n",
    "with open('data/Trip Advisor/dallas_hotels.json', 'r', encoding = 'utf8') as read_file:\n",
    "    data = json.load(read_file)"
   ]
  },
  {
   "cell_type": "code",
   "execution_count": 6,
   "metadata": {},
   "outputs": [
    {
     "data": {
      "text/plain": [
       "{'id': '98650',\n",
       " 'type': 'HOTEL',\n",
       " 'name': 'Crowne Plaza Hotel Dallas Downtown',\n",
       " 'awards': [],\n",
       " 'rankingPosition': '210',\n",
       " 'priceLevel': '$$',\n",
       " 'category': 'hotel',\n",
       " 'rating': '3.5',\n",
       " 'hotelClass': '3.0',\n",
       " 'hotelClassAttribution': 'This property is classified according to Giata.',\n",
       " 'phone': '+1 214-742-5678',\n",
       " 'address': '1015 Elm St, Dallas, TX 75202-3126',\n",
       " 'email': 'guestservices@crownedallas.com',\n",
       " 'amenities': [],\n",
       " 'prices': [],\n",
       " 'latitude': '32.780964',\n",
       " 'longitude': '-96.80347',\n",
       " 'webUrl': 'https://www.tripadvisor.com/Hotel_Review-g55711-d98650-Reviews-Crowne_Plaza_Hotel_Dallas_Downtown-Dallas_Texas.html',\n",
       " 'website': 'https://www.ihg.com/crowneplaza/hotels/us/en/dallas/dalem/hoteldetail',\n",
       " 'rankingString': '#210 of 228 hotels in Dallas',\n",
       " 'numberOfReviews': '11',\n",
       " 'rankingDenominator': '228',\n",
       " 'reviews': [{'text': 'Wouldn’t recommend this place to my worst enemy. Rooms smell of smoke. 3 different rooms and no type of heat or proper ventilation. Stairway are filled with human feces. No proper lighting. Front desk staff have no proper customer service, experienced an issue and the front desk manager walked out to smoke a cigarette.',\n",
       "   'title': 'Worst Stay in HISTORY ',\n",
       "   'rating': 1,\n",
       "   'stayDate': '2021-02-28',\n",
       "   'publishedDate': '2021-02-16',\n",
       "   'userLocation': None,\n",
       "   'userContributions': 1},\n",
       "  {'text': \"My teenaged son and I decided to take a road trip so he could take photographs away from our local area. This was such an amazing place.  The staff was so helpful and friendly (Anna at the front desk in particular).  The view was AMAZING.  The room was clean and had basic amenities. The bed was comfortable and the bathroom spotless. We were able to walk to several points of interest.  (did I mention the view was amazing and the staff was wonderful?)  I do not fault them for specific things being closed because of COVID.  The parking garage was a bit scary and expensive but I don't live in a city so have nothing to judge it by,  Thank you for a wonderful visit for city views.\",\n",
       "   'title': 'Amazing view',\n",
       "   'rating': 5,\n",
       "   'stayDate': '2020-11-30',\n",
       "   'publishedDate': '2020-11-13',\n",
       "   'userLocation': 'Dripping Springs, Texas',\n",
       "   'userContributions': 20},\n",
       "  {'text': 'I booked this hotel due to location and advertised upgrades. I was disappointed for multiple reasons. The room appeared to have cheap upgrades( Looked nothing like the rooms advertised). The room smelled old and smoky, the floors in the hallway were dirty with scattered pieces of paper throughout the floor on a daily basis during my four day stay. There was a large blue laundry bucket that remained in the hallway the entire time, the snack machine was consistently \" Out  of Order\". The a/c made a booming noise everytime it turned on, the shower consistently dripped and the parking deck wreaked of urine and marijuana smoke. Lastly, the Front desk, during the daytime, was difficult to contact. I was put on hold multiple times during my stay, twice for over ten minutes. I will not stay here again for business. I did not feel safe at all as it relates to COVID-19. \\n\\n',\n",
       "   'title': 'Very disappointed......',\n",
       "   'rating': 1,\n",
       "   'stayDate': '2020-09-30',\n",
       "   'publishedDate': '2020-09-07',\n",
       "   'userLocation': 'Alabama',\n",
       "   'userContributions': 253},\n",
       "  {'text': 'Client Review -We loved it.. the fact that certain amenities were closed didn’t deter from the fact that the hotel itself was beautiful. Even though it was downtown we felt very safe and secure because you couldn’t access the elevators without a key. The room was soo bomb, and the view was amazing. It was conveniently located very close to everything so we pretty much walked a lot of places like to the Statler and stuff. The highway was also close by so when we did drive it was convenient to get there. Ice machine wasn’t far so we always had ice. We didn’t check out the pool but the view was amazing and it did look clean [aside from a waterbug or raoch in the room]. Definitely want to return soon though. It was our first staycation and we had a blast',\n",
       "   'title': 'Impeccable Views, wonderful location',\n",
       "   'rating': 4,\n",
       "   'stayDate': '2020-07-31',\n",
       "   'publishedDate': '2020-08-14',\n",
       "   'userLocation': None,\n",
       "   'userContributions': 24},\n",
       "  {'text': 'I stayed here with my wife after we had been in Vegas for a trade show.  We were basing ourselves in Dallas before flying home to Australia but COVID hit and we headed home a few days early.  I hate to leave bad reviews but this hotel really did the wrong thing by me and I’m happy to tell the story, I was having a package delivered to the hotel that was to arrive after I left for Australia, hotel staff said no problem we forward on and charge you - all good, the package arrived and Laura (Duty Manager) confirmed the package was there.  I arranged UPS to collect form hotel - all they had to do was print a pre prepared label and attached. I rescheduled UPS 3 times and the package could never be found. I spoke to the hotel Manager (Brian) and he promised to sort it out - but nothing.  It was a kids swimming bag that was not available in Australia - I suggest someone at the hotel just kept it, what could I do I’d returned to Australia.  On to of this the rooms, hallways, restaurant and common areas were dirty and dated. I’d sleep in the park before I stayed at this place again - and if you know Dallas that saying something.',\n",
       "   'title': 'After 30 years of business travel this place is the worst.',\n",
       "   'rating': 1,\n",
       "   'stayDate': '2020-03-31',\n",
       "   'publishedDate': '2020-06-05',\n",
       "   'userLocation': 'Brisbane, Australia',\n",
       "   'userContributions': 58},\n",
       "  {'text': 'The hotel accommodations and service were excellent. The room was immaculate and the bed so very comfortable. The hotel was not packed we had a quiet and restful sleep. We had the pool to ourselves for the afternoon that we stayed there. Good view you can see the downtown and beyond from there.\\xa0',\n",
       "   'title': 'Center of downtown locations',\n",
       "   'rating': 5,\n",
       "   'stayDate': '2020-05-31',\n",
       "   'publishedDate': '2020-05-17',\n",
       "   'userLocation': None,\n",
       "   'userContributions': 1},\n",
       "  {'text': 'Stayed here for couple nights, good location and close to freeways. Decorated very nicely, I did not eat at the restaurant since it was closed for the current pandemic situation. Would definitely stay here again. Rooms were very clean, my bed was comfortable, and service was great too.',\n",
       "   'title': 'My perfect hotel in Dallas downtown',\n",
       "   'rating': 5,\n",
       "   'stayDate': '2020-04-30',\n",
       "   'publishedDate': '2020-05-06',\n",
       "   'userLocation': 'Riverside, California',\n",
       "   'userContributions': 1},\n",
       "  {'text': 'After being stuck in our apartment for weeks we decided to go to Dallas just to get a way. Stayed at this hotel last weekend. We did not have a problem with our room it was very nice, well kept, and clean. I like the fact there is a refrigerator, microwave and Coffee maker in the room. Have been coming here for the last 2 years and I was pleasantly surprised with the improvements. I will be back for sure.',\n",
       "   'title': 'Good getaway',\n",
       "   'rating': 5,\n",
       "   'stayDate': '2020-04-30',\n",
       "   'publishedDate': '2020-04-30',\n",
       "   'userLocation': None,\n",
       "   'userContributions': 1},\n",
       "  {'text': 'I was very pleased with Anna Khalil the front desk manager for helping me cancel my room thst I booked through Booking.com. She managed to get me a full refund during tge covid19 carona virus. Booking.com was only going to give 18.81 back as a refund',\n",
       "   'title': 'Customer',\n",
       "   'rating': 5,\n",
       "   'stayDate': '2020-03-31',\n",
       "   'publishedDate': '2020-03-24',\n",
       "   'userLocation': None,\n",
       "   'userContributions': 1},\n",
       "  {'text': \"Everything was awesome from the roof top hot tub to the wild Party on new year's eve. The staff is very friendly. The room was just remodeled to this modern style look and very clean. I was a very enjoyable stay and I would highly recommend.\",\n",
       "   'title': 'Awesome NYE',\n",
       "   'rating': 5,\n",
       "   'stayDate': '2019-12-31',\n",
       "   'publishedDate': '2020-03-23',\n",
       "   'userLocation': None,\n",
       "   'userContributions': 1},\n",
       "  {'text': \"I had disembarked a long international flight and my plans had changed so, I needed a hotel quickly. I chose this hotel, because I have stayed in Crowne Plaza in a number of cities such as Sydney, Adelaide, Singapore and Tokyo. I have always found Crowne Plaza an excellent chain. This hotel did not live up to the Crowne Plaza name, the best I can call it is something approaching a Motel 8. It did have a decent location if you want to be within walking distance to the sightseeing places such as JFK memorial and the tower. However, on the minus side, it is right in the centre of downtown and the surrounding areas can look a little dodgy if you walk in certain directions at night. My concern was mostly by a few homeless people around but fortunately I never had a problem during my stay.\\n.\\nThis hotel is undergoing renovations in the lobby, restaurant and bar area. I was assured that there would not be any trouble with noise from the construction.\\n\\nMy room was 1012. The room was a decent size with a comfortable bed. The room looked like it was refurbished by Motel 8 though, comfortable but very basic. I found it odd that there was no safety deposit box in the room and the iron in the room had seen better days along with the world's smallest ironing board. A new iron and a decent sized ironing board would have been appriecated.. The first morning I was woken up by drilling from the room above me. It’s nice that you are renovating, but unfortunately, the renovations did not extend to the bathroom in my room. The bathroom hada tiny shower/bath and a toilet, that was it. The bathroom sink was outside of the bathroom and there was nowhere to hang your towels or to put any items. Very weird, and NOT up to the standards I would expect from the Crowne Plaza chain.\\n\\nThe only redeeming quality of this hotel was the initial customer service and comfortable bed. Advertising was misleading to say the least. I was disappointed in this hotel. I was expecting some form of luxury, however instead I got a Motel 8 type of accommodation. There is nothing wrong with Motel 8 because you know what to expect, but I didn’t expect this from a Crowne Plaza. IHG needs to pull the Crowne Plaza brand from this hotel.\",\n",
       "   'title': 'No better than a motel 8',\n",
       "   'rating': 2,\n",
       "   'stayDate': '2019-11-30',\n",
       "   'publishedDate': '2020-03-03',\n",
       "   'userLocation': 'Sydney, Australia',\n",
       "   'userContributions': 114}]}"
      ]
     },
     "execution_count": 6,
     "metadata": {},
     "output_type": "execute_result"
    }
   ],
   "source": [
    "data[0]"
   ]
  },
  {
   "cell_type": "markdown",
   "metadata": {},
   "source": [
    "A lot of extraneous data in the json, we are interested in the *reviews*, *date*, and *priceLevel*. The strategy will be to append all of these to separate lists and create a *pandas* dataframe from the lists"
   ]
  },
  {
   "cell_type": "code",
   "execution_count": 34,
   "metadata": {},
   "outputs": [
    {
     "name": "stdout",
     "output_type": "stream",
     "text": [
      "asheville raw # of hotels:  157\n",
      "asheville filtered # of hotels:  144\n",
      "austin raw # of hotels:  290\n",
      "austin filtered # of hotels:  226\n",
      "boston raw # of hotels:  332\n",
      "boston filtered # of hotels:  320\n",
      "cambridge raw # of hotels:  21\n",
      "cambridge filtered # of hotels:  19\n",
      "chicago raw # of hotels:  389\n",
      "chicago filtered # of hotels:  321\n",
      "columbus raw # of hotels:  265\n",
      "columbus filtered # of hotels:  209\n",
      "dallas raw # of hotels:  503\n",
      "dallas filtered # of hotels:  340\n",
      "denver raw # of hotels:  216\n",
      "denver filtered # of hotels:  156\n",
      "fort_lauderdale raw # of hotels:  365\n",
      "fort_lauderdale filtered # of hotels:  302\n",
      "hawaii raw # of hotels:  177\n",
      "hawaii filtered # of hotels:  119\n",
      "jersey_city raw # of hotels:  26\n",
      "jersey_city filtered # of hotels:  20\n",
      "LosAngeles raw # of hotels:  2\n",
      "LosAngeles filtered # of hotels:  2\n",
      "MinnStPaul raw # of hotels:  497\n",
      "MinnStPaul filtered # of hotels:  375\n",
      "nashville raw # of hotels:  421\n",
      "nashville filtered # of hotels:  370\n",
      "new_orleans raw # of hotels:  351\n",
      "new_orleans filtered # of hotels:  292\n",
      "new_york raw # of hotels:  1077\n",
      "new_york filtered # of hotels:  942\n",
      "oakland raw # of hotels:  58\n",
      "oakland filtered # of hotels:  31\n",
      "PacificGrove raw # of hotels:  17\n",
      "PacificGrove filtered # of hotels:  14\n",
      "portland raw # of hotels:  258\n",
      "portland filtered # of hotels:  200\n",
      "salem raw # of hotels:  24\n",
      "salem filtered # of hotels:  17\n",
      "SantaCruz raw # of hotels:  53\n",
      "SantaCruz filtered # of hotels:  32\n",
      "santa_clara raw # of hotels:  34\n",
      "santa_clara filtered # of hotels:  17\n",
      "san_diego raw # of hotels:  521\n",
      "san_diego filtered # of hotels:  444\n",
      "san_francisco raw # of hotels:  587\n",
      "san_francisco filtered # of hotels:  530\n",
      "san_mateo raw # of hotels:  12\n",
      "san_mateo filtered # of hotels:  10\n",
      "Seattle raw # of hotels:  177\n",
      "Seattle filtered # of hotels:  152\n",
      "WahingtonDC raw # of hotels:  327\n",
      "WahingtonDC filtered # of hotels:  279\n",
      "Wall time: 1min 57s\n"
     ]
    }
   ],
   "source": [
    "%%time\n",
    "reviews_list = []\n",
    "date = []\n",
    "city = []\n",
    "zip_codes = []\n",
    "price_level = []\n",
    "for f in os.listdir(directory):\n",
    "    city_name = re.split('_hotel', f)[0] #Get City name from file name\n",
    "    with open(os.path.join(directory, f), 'r', encoding = 'utf8') as read_file:\n",
    "        data = json.load(read_file)\n",
    "        print(city_name + ' raw # of hotels: ', len(data))\n",
    "        cleaned_data = hotel_filter(data)\n",
    "        print(city_name + ' filtered # of hotels: ', len(cleaned_data))\n",
    "        for hotel in cleaned_data:\n",
    "            for review in hotel['reviews']:\n",
    "                reviews_list.append(review['title'] + ' ' + review['text'])\n",
    "                if review['stayDate']:\n",
    "                    date.append(parse(review['stayDate']))\n",
    "                else:\n",
    "                    date.append(None)\n",
    "                city.append(city_name)\n",
    "                price_level.append(hotel['priceLevel'])\n",
    "                zipcode = re.search('(\\d{5})[- ]?', hotel['address']).group(1)\n",
    "                zip_codes.append(zipcode)\n",
    "                               \n"
   ]
  },
  {
   "cell_type": "markdown",
   "metadata": {},
   "source": [
    "A quick check to make sure all lists are of the same length"
   ]
  },
  {
   "cell_type": "code",
   "execution_count": 7,
   "metadata": {},
   "outputs": [
    {
     "data": {
      "text/plain": [
       "1981164"
      ]
     },
     "execution_count": 7,
     "metadata": {},
     "output_type": "execute_result"
    }
   ],
   "source": [
    "len(price_level)"
   ]
  },
  {
   "cell_type": "code",
   "execution_count": 36,
   "metadata": {},
   "outputs": [
    {
     "data": {
      "text/plain": [
       "1981164"
      ]
     },
     "execution_count": 36,
     "metadata": {},
     "output_type": "execute_result"
    }
   ],
   "source": [
    "len(zip_codes)"
   ]
  },
  {
   "cell_type": "code",
   "execution_count": 8,
   "metadata": {},
   "outputs": [
    {
     "data": {
      "text/plain": [
       "1981164"
      ]
     },
     "execution_count": 8,
     "metadata": {},
     "output_type": "execute_result"
    }
   ],
   "source": [
    "len(date)"
   ]
  },
  {
   "cell_type": "code",
   "execution_count": 9,
   "metadata": {},
   "outputs": [
    {
     "data": {
      "text/plain": [
       "1981164"
      ]
     },
     "execution_count": 9,
     "metadata": {},
     "output_type": "execute_result"
    }
   ],
   "source": [
    "len(reviews_list)"
   ]
  },
  {
   "cell_type": "code",
   "execution_count": 10,
   "metadata": {},
   "outputs": [
    {
     "data": {
      "text/plain": [
       "1981164"
      ]
     },
     "execution_count": 10,
     "metadata": {},
     "output_type": "execute_result"
    }
   ],
   "source": [
    "len(city)"
   ]
  },
  {
   "cell_type": "markdown",
   "metadata": {},
   "source": [
    "Now we can build out the dataframe using the four lists"
   ]
  },
  {
   "cell_type": "code",
   "execution_count": 41,
   "metadata": {},
   "outputs": [],
   "source": [
    "df = pd.DataFrame(list(zip(city, zip_codes, date, price_level, reviews_list)), columns = ['City', 'zip_codes', 'Date', 'Price', 'Review'])"
   ]
  },
  {
   "cell_type": "code",
   "execution_count": 42,
   "metadata": {},
   "outputs": [
    {
     "data": {
      "text/html": [
       "<div>\n",
       "<style scoped>\n",
       "    .dataframe tbody tr th:only-of-type {\n",
       "        vertical-align: middle;\n",
       "    }\n",
       "\n",
       "    .dataframe tbody tr th {\n",
       "        vertical-align: top;\n",
       "    }\n",
       "\n",
       "    .dataframe thead th {\n",
       "        text-align: right;\n",
       "    }\n",
       "</style>\n",
       "<table border=\"1\" class=\"dataframe\">\n",
       "  <thead>\n",
       "    <tr style=\"text-align: right;\">\n",
       "      <th></th>\n",
       "      <th>City</th>\n",
       "      <th>zip_codes</th>\n",
       "      <th>Date</th>\n",
       "      <th>Price</th>\n",
       "      <th>Review</th>\n",
       "    </tr>\n",
       "  </thead>\n",
       "  <tbody>\n",
       "    <tr>\n",
       "      <th>0</th>\n",
       "      <td>asheville</td>\n",
       "      <td>28803</td>\n",
       "      <td>2021-03-31 00:00:00</td>\n",
       "      <td>$$$</td>\n",
       "      <td>Wonderful Hotel, Great time! We just returned ...</td>\n",
       "    </tr>\n",
       "    <tr>\n",
       "      <th>1</th>\n",
       "      <td>asheville</td>\n",
       "      <td>28803</td>\n",
       "      <td>2021-03-31 00:00:00</td>\n",
       "      <td>$$$</td>\n",
       "      <td>Great stop - clean and new Perfect place for o...</td>\n",
       "    </tr>\n",
       "    <tr>\n",
       "      <th>2</th>\n",
       "      <td>asheville</td>\n",
       "      <td>28803</td>\n",
       "      <td>2021-02-28 00:00:00</td>\n",
       "      <td>$$$</td>\n",
       "      <td>Clean with Spectacular Service This hotel was ...</td>\n",
       "    </tr>\n",
       "    <tr>\n",
       "      <th>3</th>\n",
       "      <td>asheville</td>\n",
       "      <td>28803</td>\n",
       "      <td>2021-01-31 00:00:00</td>\n",
       "      <td>$$$</td>\n",
       "      <td>Awesome Hotel! My boyfriend and I had a weeken...</td>\n",
       "    </tr>\n",
       "    <tr>\n",
       "      <th>4</th>\n",
       "      <td>asheville</td>\n",
       "      <td>28803</td>\n",
       "      <td>2021-02-28 00:00:00</td>\n",
       "      <td>$$$</td>\n",
       "      <td>Great hotel Decided on a trip to Asheville, it...</td>\n",
       "    </tr>\n",
       "  </tbody>\n",
       "</table>\n",
       "</div>"
      ],
      "text/plain": [
       "        City zip_codes                 Date Price  \\\n",
       "0  asheville     28803  2021-03-31 00:00:00   $$$   \n",
       "1  asheville     28803  2021-03-31 00:00:00   $$$   \n",
       "2  asheville     28803  2021-02-28 00:00:00   $$$   \n",
       "3  asheville     28803  2021-01-31 00:00:00   $$$   \n",
       "4  asheville     28803  2021-02-28 00:00:00   $$$   \n",
       "\n",
       "                                              Review  \n",
       "0  Wonderful Hotel, Great time! We just returned ...  \n",
       "1  Great stop - clean and new Perfect place for o...  \n",
       "2  Clean with Spectacular Service This hotel was ...  \n",
       "3  Awesome Hotel! My boyfriend and I had a weeken...  \n",
       "4  Great hotel Decided on a trip to Asheville, it...  "
      ]
     },
     "execution_count": 42,
     "metadata": {},
     "output_type": "execute_result"
    }
   ],
   "source": [
    "df.head()"
   ]
  },
  {
   "cell_type": "code",
   "execution_count": 43,
   "metadata": {},
   "outputs": [
    {
     "data": {
      "text/plain": [
       "207"
      ]
     },
     "execution_count": 43,
     "metadata": {},
     "output_type": "execute_result"
    }
   ],
   "source": [
    "df['Date'].isnull().sum() #Check to see how many reviews did not have a date"
   ]
  },
  {
   "cell_type": "code",
   "execution_count": 44,
   "metadata": {},
   "outputs": [],
   "source": [
    "df.dropna(axis = 0, inplace = True) # Remove rows with no dates"
   ]
  },
  {
   "cell_type": "code",
   "execution_count": 65,
   "metadata": {},
   "outputs": [],
   "source": [
    "#Drop reviews prior to 2018 and later than 03-11-2021\n",
    "df_filtered = df[(df['Date'] >= parse('2018-01-01')) & (df['Date'] < parse('2021-03-11'))]"
   ]
  },
  {
   "cell_type": "code",
   "execution_count": 50,
   "metadata": {},
   "outputs": [],
   "source": [
    "pandemic_date = parse('2020-03-11') #Date of WHO Pandemic Declaration"
   ]
  },
  {
   "cell_type": "code",
   "execution_count": 72,
   "metadata": {},
   "outputs": [],
   "source": [
    "pre_pandemic_reviews = len(df_filtered[df_filtered['Date'] < pandemic_date])"
   ]
  },
  {
   "cell_type": "code",
   "execution_count": 73,
   "metadata": {},
   "outputs": [
    {
     "data": {
      "text/plain": [
       "1812808"
      ]
     },
     "execution_count": 73,
     "metadata": {},
     "output_type": "execute_result"
    }
   ],
   "source": [
    "pre_pandemic_reviews "
   ]
  },
  {
   "cell_type": "code",
   "execution_count": 74,
   "metadata": {},
   "outputs": [],
   "source": [
    "pandemic_reviews = len(df_filtered[df_filtered['Date'] >= pandemic_date])"
   ]
  },
  {
   "cell_type": "code",
   "execution_count": 75,
   "metadata": {},
   "outputs": [
    {
     "data": {
      "text/plain": [
       "109986"
      ]
     },
     "execution_count": 75,
     "metadata": {},
     "output_type": "execute_result"
    }
   ],
   "source": [
    "pandemic_reviews"
   ]
  },
  {
   "cell_type": "code",
   "execution_count": 76,
   "metadata": {},
   "outputs": [
    {
     "name": "stdout",
     "output_type": "stream",
     "text": [
      "The number of pre-pandemic reviews is 16.48 times greater than pandemic reviews\n"
     ]
    }
   ],
   "source": [
    "print(f'The number of pre-pandemic reviews is {round(pre_pandemic_reviews/pandemic_reviews, 2)} times greater than pandemic reviews')"
   ]
  },
  {
   "cell_type": "code",
   "execution_count": 30,
   "metadata": {},
   "outputs": [],
   "source": [
    "#Write dataframe to CSV\n",
    "df_filtered.to_csv('export_dataframe.csv', index = False, header = True)"
   ]
  }
 ],
 "metadata": {
  "kernelspec": {
   "display_name": "Python 3",
   "language": "python",
   "name": "python3"
  },
  "language_info": {
   "codemirror_mode": {
    "name": "ipython",
    "version": 3
   },
   "file_extension": ".py",
   "mimetype": "text/x-python",
   "name": "python",
   "nbconvert_exporter": "python",
   "pygments_lexer": "ipython3",
   "version": "3.7.1"
  }
 },
 "nbformat": 4,
 "nbformat_minor": 4
}
