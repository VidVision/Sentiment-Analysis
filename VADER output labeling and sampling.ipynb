{
 "cells": [
  {
   "cell_type": "markdown",
   "metadata": {},
   "source": [
    "This script will read the output from VADER analysis, add a positive/negative or neutral label based on calculated compund and then create a sampled dataset. The sampled records can be used to calculate the VADER model accuracy."
   ]
  },
  {
   "cell_type": "markdown",
   "metadata": {},
   "source": [
    "#### import modules"
   ]
  },
  {
   "cell_type": "code",
   "execution_count": 1,
   "metadata": {},
   "outputs": [],
   "source": [
    "import os\n",
    "import pandas as pd\n",
    "import numpy as np"
   ]
  },
  {
   "cell_type": "markdown",
   "metadata": {},
   "source": [
    "#### Read data and perform sampling"
   ]
  },
  {
   "cell_type": "code",
   "execution_count": 2,
   "metadata": {},
   "outputs": [
    {
     "name": "stderr",
     "output_type": "stream",
     "text": [
      "C:\\Users\\vgholami\\AppData\\Local\\Continuum\\miniconda2\\envs\\Python3\\lib\\site-packages\\IPython\\core\\interactiveshell.py:3063: DtypeWarning: Columns (1,3,4,6) have mixed types.Specify dtype option on import or set low_memory=False.\n",
      "  interactivity=interactivity, compiler=compiler, result=result)\n"
     ]
    }
   ],
   "source": [
    "df = pd.read_csv(\"vaderCityOut.csv.gz\", compression = \"gzip\")"
   ]
  },
  {
   "cell_type": "code",
   "execution_count": 3,
   "metadata": {},
   "outputs": [
    {
     "data": {
      "text/html": [
       "<div>\n",
       "<style scoped>\n",
       "    .dataframe tbody tr th:only-of-type {\n",
       "        vertical-align: middle;\n",
       "    }\n",
       "\n",
       "    .dataframe tbody tr th {\n",
       "        vertical-align: top;\n",
       "    }\n",
       "\n",
       "    .dataframe thead th {\n",
       "        text-align: right;\n",
       "    }\n",
       "</style>\n",
       "<table border=\"1\" class=\"dataframe\">\n",
       "  <thead>\n",
       "    <tr style=\"text-align: right;\">\n",
       "      <th></th>\n",
       "      <th>listing_id</th>\n",
       "      <th>neighborhood</th>\n",
       "      <th>price</th>\n",
       "      <th>property</th>\n",
       "      <th>room</th>\n",
       "      <th>rating</th>\n",
       "      <th>zipcode</th>\n",
       "      <th>date</th>\n",
       "      <th>comments</th>\n",
       "      <th>COVID</th>\n",
       "      <th>city</th>\n",
       "      <th>source</th>\n",
       "      <th>neg</th>\n",
       "      <th>neu</th>\n",
       "      <th>pos</th>\n",
       "      <th>compound</th>\n",
       "      <th>vader label</th>\n",
       "    </tr>\n",
       "  </thead>\n",
       "  <tbody>\n",
       "    <tr>\n",
       "      <th>0</th>\n",
       "      <td>NaN</td>\n",
       "      <td>NaN</td>\n",
       "      <td>$$$</td>\n",
       "      <td>NaN</td>\n",
       "      <td>NaN</td>\n",
       "      <td>NaN</td>\n",
       "      <td>28803</td>\n",
       "      <td>2021-02-28</td>\n",
       "      <td>Clean with Spectacular Service This hotel was ...</td>\n",
       "      <td>Post-</td>\n",
       "      <td>Asheville</td>\n",
       "      <td>TripAdvisor</td>\n",
       "      <td>0.009</td>\n",
       "      <td>0.732</td>\n",
       "      <td>0.259</td>\n",
       "      <td>0.9964</td>\n",
       "      <td>positive</td>\n",
       "    </tr>\n",
       "    <tr>\n",
       "      <th>1</th>\n",
       "      <td>NaN</td>\n",
       "      <td>NaN</td>\n",
       "      <td>$$$</td>\n",
       "      <td>NaN</td>\n",
       "      <td>NaN</td>\n",
       "      <td>NaN</td>\n",
       "      <td>28803</td>\n",
       "      <td>2021-01-31</td>\n",
       "      <td>Awesome Hotel! My boyfriend and I had a weeken...</td>\n",
       "      <td>Post-</td>\n",
       "      <td>Asheville</td>\n",
       "      <td>TripAdvisor</td>\n",
       "      <td>0.000</td>\n",
       "      <td>0.559</td>\n",
       "      <td>0.441</td>\n",
       "      <td>0.9782</td>\n",
       "      <td>positive</td>\n",
       "    </tr>\n",
       "    <tr>\n",
       "      <th>2</th>\n",
       "      <td>NaN</td>\n",
       "      <td>NaN</td>\n",
       "      <td>$$$</td>\n",
       "      <td>NaN</td>\n",
       "      <td>NaN</td>\n",
       "      <td>NaN</td>\n",
       "      <td>28803</td>\n",
       "      <td>2021-02-28</td>\n",
       "      <td>Great hotel Decided on a trip to Asheville, it...</td>\n",
       "      <td>Post-</td>\n",
       "      <td>Asheville</td>\n",
       "      <td>TripAdvisor</td>\n",
       "      <td>0.000</td>\n",
       "      <td>0.606</td>\n",
       "      <td>0.394</td>\n",
       "      <td>0.9843</td>\n",
       "      <td>positive</td>\n",
       "    </tr>\n",
       "    <tr>\n",
       "      <th>3</th>\n",
       "      <td>NaN</td>\n",
       "      <td>NaN</td>\n",
       "      <td>$$$</td>\n",
       "      <td>NaN</td>\n",
       "      <td>NaN</td>\n",
       "      <td>NaN</td>\n",
       "      <td>28803</td>\n",
       "      <td>2021-02-28</td>\n",
       "      <td>Great hotel We loved this hotel! Beautifully d...</td>\n",
       "      <td>Post-</td>\n",
       "      <td>Asheville</td>\n",
       "      <td>TripAdvisor</td>\n",
       "      <td>0.034</td>\n",
       "      <td>0.528</td>\n",
       "      <td>0.438</td>\n",
       "      <td>0.9769</td>\n",
       "      <td>positive</td>\n",
       "    </tr>\n",
       "    <tr>\n",
       "      <th>4</th>\n",
       "      <td>NaN</td>\n",
       "      <td>NaN</td>\n",
       "      <td>$$$</td>\n",
       "      <td>NaN</td>\n",
       "      <td>NaN</td>\n",
       "      <td>NaN</td>\n",
       "      <td>28803</td>\n",
       "      <td>2021-02-28</td>\n",
       "      <td>Essence of \"Southern Hospitality\"! This is a w...</td>\n",
       "      <td>Post-</td>\n",
       "      <td>Asheville</td>\n",
       "      <td>TripAdvisor</td>\n",
       "      <td>0.000</td>\n",
       "      <td>0.728</td>\n",
       "      <td>0.272</td>\n",
       "      <td>0.9848</td>\n",
       "      <td>positive</td>\n",
       "    </tr>\n",
       "  </tbody>\n",
       "</table>\n",
       "</div>"
      ],
      "text/plain": [
       "   listing_id neighborhood price property room  rating zipcode        date  \\\n",
       "0         NaN          NaN   $$$      NaN  NaN     NaN   28803  2021-02-28   \n",
       "1         NaN          NaN   $$$      NaN  NaN     NaN   28803  2021-01-31   \n",
       "2         NaN          NaN   $$$      NaN  NaN     NaN   28803  2021-02-28   \n",
       "3         NaN          NaN   $$$      NaN  NaN     NaN   28803  2021-02-28   \n",
       "4         NaN          NaN   $$$      NaN  NaN     NaN   28803  2021-02-28   \n",
       "\n",
       "                                            comments  COVID       city  \\\n",
       "0  Clean with Spectacular Service This hotel was ...  Post-  Asheville   \n",
       "1  Awesome Hotel! My boyfriend and I had a weeken...  Post-  Asheville   \n",
       "2  Great hotel Decided on a trip to Asheville, it...  Post-  Asheville   \n",
       "3  Great hotel We loved this hotel! Beautifully d...  Post-  Asheville   \n",
       "4  Essence of \"Southern Hospitality\"! This is a w...  Post-  Asheville   \n",
       "\n",
       "        source    neg    neu    pos  compound vader label  \n",
       "0  TripAdvisor  0.009  0.732  0.259    0.9964    positive  \n",
       "1  TripAdvisor  0.000  0.559  0.441    0.9782    positive  \n",
       "2  TripAdvisor  0.000  0.606  0.394    0.9843    positive  \n",
       "3  TripAdvisor  0.034  0.528  0.438    0.9769    positive  \n",
       "4  TripAdvisor  0.000  0.728  0.272    0.9848    positive  "
      ]
     },
     "execution_count": 3,
     "metadata": {},
     "output_type": "execute_result"
    }
   ],
   "source": [
    "# add a new column forlabel predicted by Vader (using compund column)\n",
    "conditions = [\n",
    "    (df['compound'] < 0),\n",
    "    (df['compound'] > 0),\n",
    "    (df['compound'] == 0)\n",
    "     ]\n",
    "\n",
    "values = ['negative', 'positive', 'neutral']\n",
    "\n",
    "df['vader label'] = np.select(conditions, values)\n",
    "\n",
    "df.head()"
   ]
  },
  {
   "cell_type": "code",
   "execution_count": 4,
   "metadata": {},
   "outputs": [],
   "source": [
    "# create separate df for each comment type\n",
    "df1 = (df[df['vader label']=='negative'])\n",
    "df2 = (df[df['vader label']=='positive'])\n",
    "df3 = (df[df['vader label']=='neutral'])"
   ]
  },
  {
   "cell_type": "code",
   "execution_count": 5,
   "metadata": {},
   "outputs": [
    {
     "name": "stdout",
     "output_type": "stream",
     "text": [
      "there are 297350 records with negative , 9736272 records with positive and 166722 records with neutral comments per VADER analysis.\n"
     ]
    }
   ],
   "source": [
    "print ('there are %d records with negative , %d records with positive and %d records with neutral comments per VADER analysis.'%(len(df1),len(df2),len(df3))) "
   ]
  },
  {
   "cell_type": "code",
   "execution_count": 6,
   "metadata": {},
   "outputs": [],
   "source": [
    "# create a sample df based on pos/neg/ and neutral comments ratio\n",
    "# neg_samples = int(np.ceil(len(df1)/len(df)*100))\n",
    "# pos_samples = int(np.ceil(len(df2)/len(df)*100))\n",
    "# neu_samples = int(np.ceil(len(df3)/len(df)*100))\n",
    "# frames =  [df1.sample(neg_samples),df2.sample(pos_samples), df3.sample(neu_samples)]  \n",
    "\n",
    "# join the samlped data frames\n",
    "frames =  [df1.sample(30),df2.sample(50), df3.sample(20)]   \n",
    "sampled_df = pd.concat (frames, axis = 0)"
   ]
  },
  {
   "cell_type": "code",
   "execution_count": 7,
   "metadata": {},
   "outputs": [
    {
     "data": {
      "text/html": [
       "<div>\n",
       "<style scoped>\n",
       "    .dataframe tbody tr th:only-of-type {\n",
       "        vertical-align: middle;\n",
       "    }\n",
       "\n",
       "    .dataframe tbody tr th {\n",
       "        vertical-align: top;\n",
       "    }\n",
       "\n",
       "    .dataframe thead th {\n",
       "        text-align: right;\n",
       "    }\n",
       "</style>\n",
       "<table border=\"1\" class=\"dataframe\">\n",
       "  <thead>\n",
       "    <tr style=\"text-align: right;\">\n",
       "      <th></th>\n",
       "      <th>listing_id</th>\n",
       "      <th>neighborhood</th>\n",
       "      <th>price</th>\n",
       "      <th>property</th>\n",
       "      <th>room</th>\n",
       "      <th>rating</th>\n",
       "      <th>zipcode</th>\n",
       "      <th>date</th>\n",
       "      <th>comments</th>\n",
       "      <th>COVID</th>\n",
       "      <th>city</th>\n",
       "      <th>source</th>\n",
       "      <th>neg</th>\n",
       "      <th>neu</th>\n",
       "      <th>pos</th>\n",
       "      <th>compound</th>\n",
       "      <th>vader label</th>\n",
       "    </tr>\n",
       "  </thead>\n",
       "  <tbody>\n",
       "    <tr>\n",
       "      <th>133161</th>\n",
       "      <td>NaN</td>\n",
       "      <td>NaN</td>\n",
       "      <td>$$$$</td>\n",
       "      <td>NaN</td>\n",
       "      <td>NaN</td>\n",
       "      <td>NaN</td>\n",
       "      <td>2116</td>\n",
       "      <td>2019-08-31</td>\n",
       "      <td>Family situation. Loews pulled through. We had to cancel a last minute trip due to a sudden family death. \\n\\nWe didn't know if we would be penalized because of our cancellation. \\n\\nLoews was extremely accommodating and understanding. \\n\\nWe plan on eventually making a trip to Boston. And Loews will certainly be our place to stay.</td>\n",
       "      <td>Pre-</td>\n",
       "      <td>Boston</td>\n",
       "      <td>TripAdvisor</td>\n",
       "      <td>0.103</td>\n",
       "      <td>0.855</td>\n",
       "      <td>0.042</td>\n",
       "      <td>-0.5423</td>\n",
       "      <td>negative</td>\n",
       "    </tr>\n",
       "  </tbody>\n",
       "</table>\n",
       "</div>"
      ],
      "text/plain": [
       "        listing_id neighborhood price property room  rating zipcode  \\\n",
       "133161         NaN          NaN  $$$$      NaN  NaN     NaN    2116   \n",
       "\n",
       "              date  \\\n",
       "133161  2019-08-31   \n",
       "\n",
       "                                                                                                                                                                                                                                                                                                                                             comments  \\\n",
       "133161  Family situation. Loews pulled through. We had to cancel a last minute trip due to a sudden family death. \\n\\nWe didn't know if we would be penalized because of our cancellation. \\n\\nLoews was extremely accommodating and understanding. \\n\\nWe plan on eventually making a trip to Boston. And Loews will certainly be our place to stay.   \n",
       "\n",
       "       COVID    city       source    neg    neu    pos  compound vader label  \n",
       "133161  Pre-  Boston  TripAdvisor  0.103  0.855  0.042   -0.5423    negative  "
      ]
     },
     "execution_count": 7,
     "metadata": {},
     "output_type": "execute_result"
    }
   ],
   "source": [
    "# prevent truncating the comments\n",
    "pd.set_option(\"display.max_colwidth\", 2000)\n",
    "sampled_df.head(1)"
   ]
  },
  {
   "cell_type": "markdown",
   "metadata": {},
   "source": [
    "#### write output file in .csv format"
   ]
  },
  {
   "cell_type": "code",
   "execution_count": 8,
   "metadata": {},
   "outputs": [],
   "source": [
    "sampled_df.to_csv(\"vader sample.csv\", index=False)"
   ]
  }
 ],
 "metadata": {
  "kernelspec": {
   "display_name": "Python 3",
   "language": "python",
   "name": "python3"
  },
  "language_info": {
   "codemirror_mode": {
    "name": "ipython",
    "version": 3
   },
   "file_extension": ".py",
   "mimetype": "text/x-python",
   "name": "python",
   "nbconvert_exporter": "python",
   "pygments_lexer": "ipython3",
   "version": "3.7.6"
  }
 },
 "nbformat": 4,
 "nbformat_minor": 4
}
