{
 "cells": [
  {
   "cell_type": "markdown",
   "metadata": {},
   "source": [
    "## The purpose of this notebook is to aggregate the two analysis outputs (LDA & VADER) by location & quarter, in order to make them ready input files for the D3.js visualization."
   ]
  },
  {
   "cell_type": "markdown",
   "metadata": {},
   "source": [
    "This notebook takes the output of the LDA & VADER analyses and converts them into files ready for visualization inputs."
   ]
  },
  {
   "cell_type": "markdown",
   "metadata": {},
   "source": [
    "#### Import necessary modules"
   ]
  },
  {
   "cell_type": "code",
   "execution_count": null,
   "metadata": {},
   "outputs": [],
   "source": [
    "import pandas as pd\n",
    "import numpy as np"
   ]
  },
  {
   "cell_type": "markdown",
   "metadata": {},
   "source": [
    "### LDA - Latent Dirichlet Allocation"
   ]
  },
  {
   "cell_type": "markdown",
   "metadata": {},
   "source": [
    "#### Read data file"
   ]
  },
  {
   "cell_type": "code",
   "execution_count": null,
   "metadata": {},
   "outputs": [],
   "source": [
    "df = pd.read_csv('ldaCityOut.csv.gz', compression='gzip')"
   ]
  },
  {
   "cell_type": "markdown",
   "metadata": {},
   "source": [
    "#### Inspect resulting dataframe"
   ]
  },
  {
   "cell_type": "code",
   "execution_count": null,
   "metadata": {},
   "outputs": [],
   "source": [
    "#df.head()\n",
    "#df.info()\n",
    "len(df)"
   ]
  },
  {
   "cell_type": "markdown",
   "metadata": {},
   "source": [
    "#### Consolidate similar topics"
   ]
  },
  {
   "cell_type": "code",
   "execution_count": null,
   "metadata": {},
   "outputs": [],
   "source": [
    "#df['best topic'] = df['best topic'].replace([0,4],1)\n",
    "df['best topic'] = df['best topic'].replace([9],4)"
   ]
  },
  {
   "cell_type": "code",
   "execution_count": null,
   "metadata": {},
   "outputs": [],
   "source": [
    "df['best topic'].value_counts()"
   ]
  },
  {
   "cell_type": "markdown",
   "metadata": {},
   "source": [
    "#### Define & assign appropriate quarters based on date"
   ]
  },
  {
   "cell_type": "code",
   "execution_count": null,
   "metadata": {},
   "outputs": [],
   "source": [
    "conditions = [(df['date'] <= '2018-03-31'),\n",
    "    (df['date'] > '2018-03-31') & (df['date'] <= '2018-06-30'),\n",
    "    (df['date'] > '2018-06-30') & (df['date'] <= '2018-09-30'),\n",
    "    (df['date'] > '2018-09-30') & (df['date'] <= '2018-12-31'),\n",
    "    (df['date'] > '2018-12-31') & (df['date'] <= '2019-03-31'),\n",
    "    (df['date'] > '2019-03-31') & (df['date'] <= '2019-06-30'),\n",
    "    (df['date'] > '2019-06-30') & (df['date'] <= '2019-09-30'),\n",
    "    (df['date'] > '2019-09-30') & (df['date'] <= '2019-12-31'),\n",
    "    (df['date'] > '2019-12-31') & (df['date'] <= '2020-03-31'),\n",
    "    (df['date'] > '2020-03-31') & (df['date'] <= '2020-06-30'),\n",
    "    (df['date'] > '2020-06-30') & (df['date'] <= '2020-09-30'),\n",
    "    (df['date'] > '2020-09-30') & (df['date'] <= '2020-12-31'),\n",
    "    (df['date'] > '2020-12-31') & (df['date'] <= '2021-03-31')]\n",
    "values = ['2018Q1', '2018Q2', '2018Q3', '2018Q4', '2019Q1', '2019Q2', '2019Q3', '2019Q4',\n",
    "         '2020Q1', '2020Q2', '2020Q3', '2020Q4', '2021Q1']\n",
    "df['quarter'] = np.select(conditions, values)"
   ]
  },
  {
   "cell_type": "code",
   "execution_count": null,
   "metadata": {},
   "outputs": [],
   "source": [
    "df['quarter'].value_counts()"
   ]
  },
  {
   "cell_type": "markdown",
   "metadata": {},
   "source": [
    "#### Aggregate by using groupby function"
   ]
  },
  {
   "cell_type": "code",
   "execution_count": null,
   "metadata": {},
   "outputs": [],
   "source": [
    "cityQtopics = df.groupby(['city','quarter'])['best topic'].value_counts()"
   ]
  },
  {
   "cell_type": "code",
   "execution_count": null,
   "metadata": {},
   "outputs": [],
   "source": [
    "cityQtopics"
   ]
  },
  {
   "cell_type": "markdown",
   "metadata": {},
   "source": [
    "#### Write results in csv format"
   ]
  },
  {
   "cell_type": "code",
   "execution_count": null,
   "metadata": {},
   "outputs": [],
   "source": [
    "cityQtopics.to_csv('ldaCityQ.csv')"
   ]
  },
  {
   "cell_type": "markdown",
   "metadata": {},
   "source": [
    "### VADER - Valence Aware Dictionary for sEntiment Reasoning"
   ]
  },
  {
   "cell_type": "markdown",
   "metadata": {},
   "source": [
    "#### Read data file"
   ]
  },
  {
   "cell_type": "code",
   "execution_count": null,
   "metadata": {},
   "outputs": [],
   "source": [
    "df = pd.read_csv('vaderCityOut.csv.gz', compression='gzip')"
   ]
  },
  {
   "cell_type": "markdown",
   "metadata": {},
   "source": [
    "#### Inspect resulting dataframe"
   ]
  },
  {
   "cell_type": "code",
   "execution_count": null,
   "metadata": {},
   "outputs": [],
   "source": [
    "df.head()\n",
    "#df.info()\n",
    "#len(df)"
   ]
  },
  {
   "cell_type": "markdown",
   "metadata": {},
   "source": [
    "#### Define & assign appropriate quarters based on date"
   ]
  },
  {
   "cell_type": "code",
   "execution_count": null,
   "metadata": {},
   "outputs": [],
   "source": [
    "conditions = [(df['date'] <= '2018-03-31'),\n",
    "    (df['date'] > '2018-03-31') & (df['date'] <= '2018-06-30'),\n",
    "    (df['date'] > '2018-06-30') & (df['date'] <= '2018-09-30'),\n",
    "    (df['date'] > '2018-09-30') & (df['date'] <= '2018-12-31'),\n",
    "    (df['date'] > '2018-12-31') & (df['date'] <= '2019-03-31'),\n",
    "    (df['date'] > '2019-03-31') & (df['date'] <= '2019-06-30'),\n",
    "    (df['date'] > '2019-06-30') & (df['date'] <= '2019-09-30'),\n",
    "    (df['date'] > '2019-09-30') & (df['date'] <= '2019-12-31'),\n",
    "    (df['date'] > '2019-12-31') & (df['date'] <= '2020-03-31'),\n",
    "    (df['date'] > '2020-03-31') & (df['date'] <= '2020-06-30'),\n",
    "    (df['date'] > '2020-06-30') & (df['date'] <= '2020-09-30'),\n",
    "    (df['date'] > '2020-09-30') & (df['date'] <= '2020-12-31'),\n",
    "    (df['date'] > '2020-12-31') & (df['date'] <= '2021-03-31')]\n",
    "values = ['2018Q1', '2018Q2', '2018Q3', '2018Q4', '2019Q1', '2019Q2', '2019Q3', '2019Q4',\n",
    "         '2020Q1', '2020Q2', '2020Q3', '2020Q4', '2021Q1']\n",
    "df['quarter'] = np.select(conditions, values)"
   ]
  },
  {
   "cell_type": "markdown",
   "metadata": {},
   "source": [
    "#### Assign appropriate sentiment label based on compound score"
   ]
  },
  {
   "cell_type": "code",
   "execution_count": null,
   "metadata": {},
   "outputs": [],
   "source": [
    "conditions = [(df['compound'] < 0), (df['compound'] == 0), (df['compound'] > 0)]\n",
    "values = ['neg','neu','pos']\n",
    "df['label'] = np.select(conditions, values)"
   ]
  },
  {
   "cell_type": "markdown",
   "metadata": {},
   "source": [
    "#### Aggregate by using groupby function"
   ]
  },
  {
   "cell_type": "code",
   "execution_count": null,
   "metadata": {},
   "outputs": [],
   "source": [
    "cityQlabels = df.groupby(['city','quarter'])['label'].value_counts()\n",
    "cityQlabels"
   ]
  },
  {
   "cell_type": "markdown",
   "metadata": {},
   "source": [
    "#### Write results in csv format"
   ]
  },
  {
   "cell_type": "code",
   "execution_count": null,
   "metadata": {},
   "outputs": [],
   "source": [
    "cityQlabels.to_csv('vaderCityQ.csv')"
   ]
  }
 ],
 "metadata": {
  "kernelspec": {
   "display_name": "Python 3",
   "language": "python",
   "name": "python3"
  },
  "language_info": {
   "codemirror_mode": {
    "name": "ipython",
    "version": 3
   },
   "file_extension": ".py",
   "mimetype": "text/x-python",
   "name": "python",
   "nbconvert_exporter": "python",
   "pygments_lexer": "ipython3",
   "version": "3.7.6"
  }
 },
 "nbformat": 4,
 "nbformat_minor": 4
}
